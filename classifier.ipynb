{
  "nbformat": 4,
  "nbformat_minor": 0,
  "metadata": {
    "colab": {
      "name": "Credicxo.ipynb",
      "provenance": [],
      "include_colab_link": true
    },
    "kernelspec": {
      "name": "python3",
      "display_name": "Python 3"
    }
  },
  "cells": [
    {
      "cell_type": "markdown",
      "metadata": {
        "id": "view-in-github",
        "colab_type": "text"
      },
      "source": [
        "<a href=\"https://colab.research.google.com/github/vk-98/credicxo/blob/master/Credicxo.ipynb\" target=\"_parent\"><img src=\"https://colab.research.google.com/assets/colab-badge.svg\" alt=\"Open In Colab\"/></a>"
      ]
    },
    {
      "cell_type": "markdown",
      "metadata": {
        "id": "iRyKM8Acbqjp",
        "colab_type": "text"
      },
      "source": [
        "# **Chemical Classifier in classes of Muke or Non-Muke**\n"
      ]
    },
    {
      "cell_type": "code",
      "metadata": {
        "id": "2Ua9ecYwb9IW",
        "colab_type": "code",
        "colab": {}
      },
      "source": [
        "#for mathematical operations\n",
        "import numpy as np\n",
        "#for manupulating data\n",
        "import pandas as pd\n",
        "#for visualisation\n",
        "import matplotlib.pyplot as plt\n",
        "#for shuffling \n",
        "import random\n",
        "#for splitting data in test and train data\n",
        "from sklearn.model_selection import train_test_split\n",
        "#for scaling data\n",
        "from sklearn.preprocessing import StandardScaler\n",
        "#for using multi-layer perceptron classifier of sklearn\n",
        "from sklearn.neural_network import MLPClassifier\n",
        "#for generating confusion matrix and classfication report\n",
        "from sklearn.metrics import confusion_matrix, classification_report\n",
        "#Sequential model to make neural network\n",
        "from keras.models import Sequential\n",
        "#for adding layers and activation functions\n",
        "from keras.layers import Dense, Activation"
      ],
      "execution_count": 0,
      "outputs": []
    },
    {
      "cell_type": "markdown",
      "metadata": {
        "id": "kWtFqBYDej7w",
        "colab_type": "text"
      },
      "source": [
        "# **Importing Data**"
      ]
    },
    {
      "cell_type": "code",
      "metadata": {
        "id": "0ispyJBieq_f",
        "colab_type": "code",
        "colab": {
          "base_uri": "https://localhost:8080/",
          "height": 34
        },
        "outputId": "0dd5cdb6-5b74-4072-ab76-1941c79c2ad6"
      },
      "source": [
        "#clonning dataset from github repo\n",
        "!git clone https://github.com/vk-98/credicxo"
      ],
      "execution_count": 60,
      "outputs": [
        {
          "output_type": "stream",
          "text": [
            "fatal: destination path 'credicxo' already exists and is not an empty directory.\n"
          ],
          "name": "stdout"
        }
      ]
    },
    {
      "cell_type": "code",
      "metadata": {
        "id": "qZe2zzgIewEo",
        "colab_type": "code",
        "colab": {}
      },
      "source": [
        "#loading data from csv file using panadas.read_csv funtion\n",
        "chemical_data = pd.read_csv('credicxo/musk_csv.csv')"
      ],
      "execution_count": 0,
      "outputs": []
    },
    {
      "cell_type": "code",
      "metadata": {
        "id": "6lcfVVqqfCDh",
        "colab_type": "code",
        "colab": {
          "base_uri": "https://localhost:8080/",
          "height": 119
        },
        "outputId": "35a459e4-265c-498c-d12f-e4bffa3ed679"
      },
      "source": [
        "#looking at the information about data\n",
        "print(chemical_data.info())"
      ],
      "execution_count": 62,
      "outputs": [
        {
          "output_type": "stream",
          "text": [
            "<class 'pandas.core.frame.DataFrame'>\n",
            "RangeIndex: 6598 entries, 0 to 6597\n",
            "Columns: 170 entries, ID to class\n",
            "dtypes: int64(168), object(2)\n",
            "memory usage: 8.6+ MB\n",
            "None\n"
          ],
          "name": "stdout"
        }
      ]
    },
    {
      "cell_type": "markdown",
      "metadata": {
        "id": "-JF7u5TAf81X",
        "colab_type": "text"
      },
      "source": [
        "**Observation**\n",
        "There is no null values present in the dataset\n"
      ]
    },
    {
      "cell_type": "code",
      "metadata": {
        "id": "6cWkIGvZgOta",
        "colab_type": "code",
        "colab": {
          "base_uri": "https://localhost:8080/",
          "height": 204
        },
        "outputId": "c6db63c8-0198-4e5b-db1d-3067eff0958c"
      },
      "source": [
        "#Details about the Data\n",
        "print(\"Total No of Columns/features in the data : \", len(chemical_data.columns))\n",
        "print(\"Total No of Data Points : \", len(chemical_data))\n",
        "print(\"Total No of Different Classes : \", len(chemical_data['class'].unique()))\n",
        "print(\"*\"*100)\n",
        "print(\"Feature Names : \")\n",
        "print(chemical_data.columns)"
      ],
      "execution_count": 63,
      "outputs": [
        {
          "output_type": "stream",
          "text": [
            "Total No of Columns/features in the data :  170\n",
            "Total No of Data Points :  6598\n",
            "Total No of Different Classes :  2\n",
            "****************************************************************************************************\n",
            "Feature Names : \n",
            "Index(['ID', 'molecule_name', 'conformation_name', 'f1', 'f2', 'f3', 'f4',\n",
            "       'f5', 'f6', 'f7',\n",
            "       ...\n",
            "       'f158', 'f159', 'f160', 'f161', 'f162', 'f163', 'f164', 'f165', 'f166',\n",
            "       'class'],\n",
            "      dtype='object', length=170)\n"
          ],
          "name": "stdout"
        }
      ]
    },
    {
      "cell_type": "markdown",
      "metadata": {
        "id": "sRf2k43cl4vo",
        "colab_type": "text"
      },
      "source": [
        "# Data Preparation"
      ]
    },
    {
      "cell_type": "code",
      "metadata": {
        "id": "qKh7lqdGg4az",
        "colab_type": "code",
        "colab": {
          "base_uri": "https://localhost:8080/",
          "height": 238
        },
        "outputId": "dca1b22c-d263-459e-c05e-bd955caf7083"
      },
      "source": [
        "#watching top 10 datapoints of chemical data\n",
        "print(chemical_data.head(10))"
      ],
      "execution_count": 64,
      "outputs": [
        {
          "output_type": "stream",
          "text": [
            "   ID molecule_name conformation_name  f1   f2  ...  f163  f164  f165  f166  class\n",
            "0   1      MUSK-211           211_1+1  46 -108  ...   156   -50  -112    96      1\n",
            "1   2      MUSK-211          211_1+10  41 -188  ...   169   -61  -136    79      1\n",
            "2   3      MUSK-211          211_1+11  46 -194  ...   165   -67  -145    39      1\n",
            "3   4      MUSK-211          211_1+12  41 -188  ...   168   -60  -135    80      1\n",
            "4   5      MUSK-211          211_1+13  41 -188  ...   168   -60  -135    80      1\n",
            "5   6      MUSK-211          211_1+14  46 -194  ...   164   -67  -145    40      1\n",
            "6   7      MUSK-211          211_1+15  47 -199  ...   165   -68  -145    37      1\n",
            "7   8      MUSK-211          211_1+16  41 -199  ...   169   -60  -135    81      1\n",
            "8   9      MUSK-211          211_1+17  41 -199  ...   169   -60  -135    81      1\n",
            "9  10      MUSK-211          211_1+18  47 -199  ...   165   -68  -146    37      1\n",
            "\n",
            "[10 rows x 170 columns]\n"
          ],
          "name": "stdout"
        }
      ]
    },
    {
      "cell_type": "markdown",
      "metadata": {
        "id": "_hRarK21h0Ez",
        "colab_type": "text"
      },
      "source": [
        "**Here there are two features (molecule_name and conformation_name) who needs to be converted into integer values**"
      ]
    },
    {
      "cell_type": "code",
      "metadata": {
        "id": "2KK9yQ92hxQZ",
        "colab_type": "code",
        "colab": {
          "base_uri": "https://localhost:8080/",
          "height": 51
        },
        "outputId": "419d3f3e-f612-4f2d-ef91-fcc721197d56"
      },
      "source": [
        "#watching how many different values these two feature have\n",
        "print(\"Different values of molecule_name in the data :\", len(chemical_data['molecule_name'].unique()))\n",
        "print(\"Different values of conformation_name in the data :\", len(chemical_data['conformation_name'].unique()))"
      ],
      "execution_count": 65,
      "outputs": [
        {
          "output_type": "stream",
          "text": [
            "Different values of molecule_name in the data : 102\n",
            "Different values of conformation_name in the data : 6598\n"
          ],
          "name": "stdout"
        }
      ]
    },
    {
      "cell_type": "markdown",
      "metadata": {
        "id": "2-BcYKGYjmuh",
        "colab_type": "text"
      },
      "source": [
        "**Observation:**\n",
        "\n"
      ]
    },
    {
      "cell_type": "markdown",
      "metadata": {
        "id": "eefSZrEqkD9y",
        "colab_type": "text"
      },
      "source": [
        "Molecule names are less in comparision to total data points. Hence we can replace them with integer values."
      ]
    },
    {
      "cell_type": "markdown",
      "metadata": {
        "id": "l-f3UY3PkE6M",
        "colab_type": "text"
      },
      "source": [
        "Conformation values are equal to total data points. Hence its better to drop this feature."
      ]
    },
    {
      "cell_type": "code",
      "metadata": {
        "id": "Y-X3yba8iV17",
        "colab_type": "code",
        "colab": {}
      },
      "source": [
        "#dropping conformation_name feature\n",
        "chemical_data.drop(['conformation_name'], axis = 1, inplace = True)"
      ],
      "execution_count": 0,
      "outputs": []
    },
    {
      "cell_type": "code",
      "metadata": {
        "id": "aPLOEM7tkZIG",
        "colab_type": "code",
        "colab": {}
      },
      "source": [
        "#function to map string to an integer\n",
        "def map_name_to_integer(data):\n",
        "    labels = data.unique()\n",
        "    labels = list(enumerate(labels))\n",
        "    mapping_dict = {}\n",
        "    for label in labels:\n",
        "        mapping_dict[label[1]] = int(label[0])\n",
        "    data = [ mapping_dict[data_point] for data_point in data ]\n",
        "    return data"
      ],
      "execution_count": 0,
      "outputs": []
    },
    {
      "cell_type": "code",
      "metadata": {
        "id": "6EGEM2tekh2Y",
        "colab_type": "code",
        "colab": {}
      },
      "source": [
        "#mapping molecule names to integer\n",
        "chemical_data['molecule_name'] = map_name_to_integer(chemical_data['molecule_name'])"
      ],
      "execution_count": 0,
      "outputs": []
    },
    {
      "cell_type": "code",
      "metadata": {
        "id": "xSNC-KoLmakW",
        "colab_type": "code",
        "colab": {}
      },
      "source": [
        "#converting chemical data into numpy array\n",
        "chemical_data = np.array(chemical_data)"
      ],
      "execution_count": 0,
      "outputs": []
    },
    {
      "cell_type": "code",
      "metadata": {
        "id": "v8mVe4MVmowv",
        "colab_type": "code",
        "colab": {}
      },
      "source": [
        "#shuffling dataset\n",
        "random.shuffle(chemical_data)"
      ],
      "execution_count": 0,
      "outputs": []
    },
    {
      "cell_type": "code",
      "metadata": {
        "id": "mIKrOuwdmu8v",
        "colab_type": "code",
        "colab": {}
      },
      "source": [
        "#separating input data and class/target\n",
        "input_data = chemical_data[:,:-1]\n",
        "target_value = chemical_data[:,-1]"
      ],
      "execution_count": 0,
      "outputs": []
    },
    {
      "cell_type": "code",
      "metadata": {
        "id": "d5oo67eDm_TS",
        "colab_type": "code",
        "colab": {}
      },
      "source": [
        "#splitting data into training and testing data set with ration (4:1)\n",
        "X_train, X_test, Y_train, Y_test = train_test_split (input_data, target_value, random_state = 1, test_size = 0.2)"
      ],
      "execution_count": 0,
      "outputs": []
    },
    {
      "cell_type": "code",
      "metadata": {
        "id": "ApU2PosenX3S",
        "colab_type": "code",
        "colab": {}
      },
      "source": [
        "#scaling the data to reduce the variance in feature values\n",
        "scaler = StandardScaler()\n",
        "#fiting scaler values according to X_train and transforming training data\n",
        "X_train = scaler.fit_transform(X_train)\n",
        "#transfroming X_test by the same Scaler\n",
        "X_test = scaler.transform(X_test)"
      ],
      "execution_count": 0,
      "outputs": []
    },
    {
      "cell_type": "markdown",
      "metadata": {
        "id": "qKTlTftVov0B",
        "colab_type": "text"
      },
      "source": [
        "# Model Creation"
      ]
    },
    {
      "cell_type": "markdown",
      "metadata": {
        "id": "MsFH7WhHqKWo",
        "colab_type": "text"
      },
      "source": [
        "**MLP model**"
      ]
    },
    {
      "cell_type": "code",
      "metadata": {
        "id": "U4XPqUBUo0_Q",
        "colab_type": "code",
        "colab": {}
      },
      "source": [
        "# Multi level perceptron model using sklearn\n",
        "classifier = MLPClassifier()\n"
      ],
      "execution_count": 0,
      "outputs": []
    },
    {
      "cell_type": "code",
      "metadata": {
        "id": "4w1uc011o7bP",
        "colab_type": "code",
        "colab": {
          "base_uri": "https://localhost:8080/",
          "height": 136
        },
        "outputId": "9e7dfc31-aa9c-40cc-ba3e-c84a616416a8"
      },
      "source": [
        "#fitting data into classifier\n",
        "classifier.fit(X_train, Y_train)"
      ],
      "execution_count": 75,
      "outputs": [
        {
          "output_type": "execute_result",
          "data": {
            "text/plain": [
              "MLPClassifier(activation='relu', alpha=0.0001, batch_size='auto', beta_1=0.9,\n",
              "              beta_2=0.999, early_stopping=False, epsilon=1e-08,\n",
              "              hidden_layer_sizes=(100,), learning_rate='constant',\n",
              "              learning_rate_init=0.001, max_iter=200, momentum=0.9,\n",
              "              n_iter_no_change=10, nesterovs_momentum=True, power_t=0.5,\n",
              "              random_state=None, shuffle=True, solver='adam', tol=0.0001,\n",
              "              validation_fraction=0.1, verbose=False, warm_start=False)"
            ]
          },
          "metadata": {
            "tags": []
          },
          "execution_count": 75
        }
      ]
    },
    {
      "cell_type": "code",
      "metadata": {
        "id": "u14rvS8hpy9M",
        "colab_type": "code",
        "colab": {}
      },
      "source": [
        "#getting predictions from classifier\n",
        "MLPClassifier_predictions = classifier.predict(X_test)"
      ],
      "execution_count": 0,
      "outputs": []
    },
    {
      "cell_type": "markdown",
      "metadata": {
        "id": "o-WYdhIIqOKk",
        "colab_type": "text"
      },
      "source": [
        "**Artificial Neural Network Model using Keras**"
      ]
    },
    {
      "cell_type": "code",
      "metadata": {
        "id": "7Yj6zBPQqF6a",
        "colab_type": "code",
        "colab": {}
      },
      "source": [
        "#creating model\n",
        "model = Sequential([\n",
        "                    Dense(32, input_shape = (168,)),\n",
        "                    Activation('relu'),\n",
        "                    Dense(1),\n",
        "                    Activation('sigmoid')\n",
        "])\n",
        "#Here I have use 2 layers\n",
        "#First layer have 32 units of perceptrons and using relu as activation funtion\n",
        "#second layer have only single unit of perceptron due to binary classification required only, and sigmoid function is used as activation funtion"
      ],
      "execution_count": 0,
      "outputs": []
    },
    {
      "cell_type": "code",
      "metadata": {
        "id": "eS6hAeePrMUP",
        "colab_type": "code",
        "colab": {}
      },
      "source": [
        "#compiling model and specifying optimizer, loss functions and metrics to be displaced while training model\n",
        "model.compile(\n",
        "    optimizer = 'adam',\n",
        "    loss = 'binary_crossentropy',\n",
        "    metrics = ['accuracy']\n",
        ")"
      ],
      "execution_count": 0,
      "outputs": []
    },
    {
      "cell_type": "code",
      "metadata": {
        "id": "OdS-jUaErtvs",
        "colab_type": "code",
        "colab": {
          "base_uri": "https://localhost:8080/",
          "height": 374
        },
        "outputId": "80e2f165-26d4-4fe8-d255-232b080434a9"
      },
      "source": [
        "#fitting data and collecting data of accuracy and loss value after every epoch\n",
        "#epoch used = 10\n",
        "history = model.fit(\n",
        "    X_train, Y_train,\n",
        "    epochs = 10,\n",
        "    batch_size = 32,\n",
        "    validation_data = [X_test, Y_test]\n",
        ")"
      ],
      "execution_count": 79,
      "outputs": [
        {
          "output_type": "stream",
          "text": [
            "Train on 5278 samples, validate on 1320 samples\n",
            "Epoch 1/10\n",
            "5278/5278 [==============================] - 0s 90us/step - loss: 0.2786 - acc: 0.8979 - val_loss: 0.1137 - val_acc: 0.9833\n",
            "Epoch 2/10\n",
            "5278/5278 [==============================] - 0s 50us/step - loss: 0.0725 - acc: 0.9919 - val_loss: 0.0464 - val_acc: 0.9955\n",
            "Epoch 3/10\n",
            "5278/5278 [==============================] - 0s 48us/step - loss: 0.0300 - acc: 0.9989 - val_loss: 0.0217 - val_acc: 0.9992\n",
            "Epoch 4/10\n",
            "5278/5278 [==============================] - 0s 48us/step - loss: 0.0149 - acc: 0.9996 - val_loss: 0.0122 - val_acc: 0.9992\n",
            "Epoch 5/10\n",
            "5278/5278 [==============================] - 0s 48us/step - loss: 0.0087 - acc: 0.9998 - val_loss: 0.0081 - val_acc: 1.0000\n",
            "Epoch 6/10\n",
            "5278/5278 [==============================] - 0s 47us/step - loss: 0.0056 - acc: 1.0000 - val_loss: 0.0059 - val_acc: 1.0000\n",
            "Epoch 7/10\n",
            "5278/5278 [==============================] - 0s 48us/step - loss: 0.0039 - acc: 1.0000 - val_loss: 0.0039 - val_acc: 1.0000\n",
            "Epoch 8/10\n",
            "5278/5278 [==============================] - 0s 49us/step - loss: 0.0028 - acc: 1.0000 - val_loss: 0.0031 - val_acc: 1.0000\n",
            "Epoch 9/10\n",
            "5278/5278 [==============================] - 0s 49us/step - loss: 0.0021 - acc: 1.0000 - val_loss: 0.0024 - val_acc: 1.0000\n",
            "Epoch 10/10\n",
            "5278/5278 [==============================] - 0s 47us/step - loss: 0.0016 - acc: 1.0000 - val_loss: 0.0019 - val_acc: 1.0000\n"
          ],
          "name": "stdout"
        }
      ]
    },
    {
      "cell_type": "code",
      "metadata": {
        "id": "kjFmkn00sQAz",
        "colab_type": "code",
        "colab": {}
      },
      "source": [
        "#getting predictions from model\n",
        "ANN_predictions = model.predict_classes(X_test)"
      ],
      "execution_count": 0,
      "outputs": []
    },
    {
      "cell_type": "markdown",
      "metadata": {
        "id": "LWcEZLuXtWUE",
        "colab_type": "text"
      },
      "source": [
        "# Result and Performance analysis of models"
      ]
    },
    {
      "cell_type": "markdown",
      "metadata": {
        "id": "7JmjwColth5T",
        "colab_type": "text"
      },
      "source": [
        "**MLP Classifier**"
      ]
    },
    {
      "cell_type": "code",
      "metadata": {
        "id": "Ma8I1mQEtVJM",
        "colab_type": "code",
        "colab": {
          "base_uri": "https://localhost:8080/",
          "height": 51
        },
        "outputId": "028c6441-08a1-43b8-aee2-a87c281d3c6e"
      },
      "source": [
        "#printing confusion matrix for MLP classifier on testing data\n",
        "print(confusion_matrix(Y_test, MLPClassifier_predictions))"
      ],
      "execution_count": 83,
      "outputs": [
        {
          "output_type": "stream",
          "text": [
            "[[761   0]\n",
            " [  0 559]]\n"
          ],
          "name": "stdout"
        }
      ]
    },
    {
      "cell_type": "code",
      "metadata": {
        "id": "48y3v5kAtLkD",
        "colab_type": "code",
        "colab": {
          "base_uri": "https://localhost:8080/",
          "height": 170
        },
        "outputId": "8129de27-b83f-486b-a3be-36d36f4563fe"
      },
      "source": [
        "#printing classification report for MLP Classifier on testing data\n",
        "print(classification_report(Y_test, MLPClassifier_predictions))"
      ],
      "execution_count": 93,
      "outputs": [
        {
          "output_type": "stream",
          "text": [
            "              precision    recall  f1-score   support\n",
            "\n",
            "           0       1.00      1.00      1.00       761\n",
            "           1       1.00      1.00      1.00       559\n",
            "\n",
            "    accuracy                           1.00      1320\n",
            "   macro avg       1.00      1.00      1.00      1320\n",
            "weighted avg       1.00      1.00      1.00      1320\n",
            "\n"
          ],
          "name": "stdout"
        }
      ]
    },
    {
      "cell_type": "markdown",
      "metadata": {
        "id": "-Q3DUXfnuAMe",
        "colab_type": "text"
      },
      "source": [
        "**Artifical Neural Network Model using Keras**"
      ]
    },
    {
      "cell_type": "code",
      "metadata": {
        "id": "jFUUFfiGt-UM",
        "colab_type": "code",
        "colab": {
          "base_uri": "https://localhost:8080/",
          "height": 51
        },
        "outputId": "ee8fc49e-9fa2-425b-a1e6-ea75ad28753d"
      },
      "source": [
        "#printing confusion matrix from ANN model for testing data\n",
        "print(confusion_matrix(Y_test, ANN_predictions))"
      ],
      "execution_count": 94,
      "outputs": [
        {
          "output_type": "stream",
          "text": [
            "[[761   0]\n",
            " [  0 559]]\n"
          ],
          "name": "stdout"
        }
      ]
    },
    {
      "cell_type": "code",
      "metadata": {
        "id": "CEnBpT4ruTVc",
        "colab_type": "code",
        "colab": {
          "base_uri": "https://localhost:8080/",
          "height": 170
        },
        "outputId": "a7690745-b564-4a0b-ce90-58e98fbae7e9"
      },
      "source": [
        "#printing classification report for ANN model for testing data\n",
        "print(classification_report(Y_test, ANN_predictions))"
      ],
      "execution_count": 96,
      "outputs": [
        {
          "output_type": "stream",
          "text": [
            "              precision    recall  f1-score   support\n",
            "\n",
            "           0       1.00      1.00      1.00       761\n",
            "           1       1.00      1.00      1.00       559\n",
            "\n",
            "    accuracy                           1.00      1320\n",
            "   macro avg       1.00      1.00      1.00      1320\n",
            "weighted avg       1.00      1.00      1.00      1320\n",
            "\n"
          ],
          "name": "stdout"
        }
      ]
    },
    {
      "cell_type": "markdown",
      "metadata": {
        "id": "MSDWYHUdumP3",
        "colab_type": "text"
      },
      "source": [
        "**Making Graphs of loss and accuracy of models with each epoch**"
      ]
    },
    {
      "cell_type": "code",
      "metadata": {
        "id": "QIg4CkuruiT_",
        "colab_type": "code",
        "colab": {
          "base_uri": "https://localhost:8080/",
          "height": 295
        },
        "outputId": "f21aae82-09ac-4df4-be01-8fae40c05b46"
      },
      "source": [
        "#graph for Accuracy of model with each epoch of training and testing data\n",
        "plt.plot(history.history['acc'])\n",
        "plt.plot(history.history['val_acc'])\n",
        "plt.title('model accuracy')\n",
        "plt.ylabel('accuracy')\n",
        "plt.xlabel('epoch')\n",
        "plt.legend(['train', 'val'], loc='lower right')\n",
        "plt.show()"
      ],
      "execution_count": 97,
      "outputs": [
        {
          "output_type": "display_data",
          "data": {
            "image/png": "[encoded data removed]",
            "text/plain": [
              "<Figure size 432x288 with 1 Axes>"
            ]
          },
          "metadata": {
            "tags": []
          }
        }
      ]
    },
    {
      "cell_type": "code",
      "metadata": {
        "id": "7taeklhgu_wu",
        "colab_type": "code",
        "colab": {
          "base_uri": "https://localhost:8080/",
          "height": 295
        },
        "outputId": "ce85b871-e5d2-4bfd-93f3-3a8d1fb5b11b"
      },
      "source": [
        "#graph for Accuracy of model with each epoch of training and testing data\n",
        "plt.plot(history.history['loss'])\n",
        "plt.plot(history.history['val_loss'])\n",
        "plt.title('model loss')\n",
        "plt.ylabel('loss')\n",
        "plt.xlabel('epoch')\n",
        "plt.legend(['train', 'val'], loc='upper right')\n",
        "plt.show()"
      ],
      "execution_count": 98,
      "outputs": [
        {
          "output_type": "display_data",
          "data": {
            "image/png": "[encoded data removed]",
            "text/plain": [
              "<Figure size 432x288 with 1 Axes>"
            ]
          },
          "metadata": {
            "tags": []
          }
        }
      ]
    },
    {
      "cell_type": "markdown",
      "metadata": {
        "id": "Kdh5dq6hvQdC",
        "colab_type": "text"
      },
      "source": [
        "**Both the models working superbly well in predicting class of for all test and training data**"
      ]
    }
  ]
}
